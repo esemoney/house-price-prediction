{
 "cells": [
  {
   "cell_type": "markdown",
   "id": "719b8b1d",
   "metadata": {},
   "source": [
    "# Data Cleaning and Preprocessing Notebook\n",
    "\n",
    "From our earlier analysis in the EDA notebook, we've identified that some features in our dataset have missing values.\n",
    "\n",
    "Let's start by checking the percentage of missing values in each feature."
   ]
  },
  {
   "cell_type": "code",
   "execution_count": null,
   "id": "e1d1d72f",
   "metadata": {},
   "outputs": [],
   "source": [
    "import pandas as pd\n",
    "import matplotlib.pyplot as plt\n",
    "import seaborn as sns\n",
    "import numpy as np\n",
    "\n",
    "train_df = pd.read_csv('../data_details/train.csv')\n",
    "test_df = pd.read_csv('../data_details/test.csv')"
   ]
  },
  {
   "cell_type": "code",
   "execution_count": null,
   "id": "29ecaa97",
   "metadata": {},
   "outputs": [],
   "source": [
    "# Calculating the percentage of missing values in each feature\n",
    "missing_values = train_df.isnull().mean() * 100\n",
    "\n",
    "# Displaying features with their corresponding percentage of missing values\n",
    "missing_values[missing_values > 0].sort_values(ascending=False)\n"
   ]
  },
  {
   "cell_type": "markdown",
   "id": "a092b391",
   "metadata": {},
   "source": [
    "Features like PoolQC, MiscFeature, Alley, Fence, and FireplaceQu are missing more than 45% of their values.\n",
    "\n",
    "Based on the high percentage of missing values we can assume that the absence of a value might indicate the absence of the feature itself. For instance, a NaN (or missing value) in PoolQC likely means that the house doesn't have a pool. Similarly, a NaN in GarageType likely indicates that there is no garage.\n",
    "\n",
    "So, I choose to handle these cases by replacing the missing values with 'None' or 0, indicating that the house lacks these features."
   ]
  },
  {
   "cell_type": "markdown",
   "id": "7dc772b3",
   "metadata": {},
   "source": [
    "For features like LotFrontage, which represents the linear feet of street connected to the property, we can use imputation. \n",
    "\n",
    "In real estate and the housing industry,  in a city, lot frontage is likely to be similar for houses in the same neighborhood.\n",
    "\n",
    "So I decide to impute missing values in LotFrontage with the median LotFrontage of the neighborhood. "
   ]
  },
  {
   "cell_type": "markdown",
   "id": "faf3aae1",
   "metadata": {},
   "source": [
    "The feature Electrical has just one missing value, and so we can replace it with the mode of the column without introducing much bias.\n",
    "\n"
   ]
  },
  {
   "cell_type": "code",
   "execution_count": null,
   "id": "5d06d883",
   "metadata": {},
   "outputs": [],
   "source": [
    "# Filling missing values for features where NaN means the feature doesn't exist\n",
    "for feature in ['PoolQC', 'MiscFeature', 'Alley', 'Fence', 'FireplaceQu',\n",
    "                'GarageType', 'GarageFinish', 'GarageQual', 'GarageCond',\n",
    "                'BsmtExposure', 'BsmtFinType1', 'BsmtFinType2', 'BsmtCond', 'BsmtQual',\n",
    "                'MasVnrType']:\n",
    "    train_df[feature].fillna('None', inplace=True)\n",
    "\n",
    "# Filling missing values for features where NaN means zero\n",
    "for feature in ['GarageYrBlt', 'GarageArea', 'GarageCars', 'BsmtFinSF1', \n",
    "                'BsmtFinSF2', 'BsmtUnfSF', 'TotalBsmtSF', 'BsmtFullBath', \n",
    "                'BsmtHalfBath', 'MasVnrArea']:\n",
    "    train_df[feature].fillna(0, inplace=True)\n",
    "    \n",
    "# Group by neighborhood and fill in missing LotFrontage value by the median LotFrontage of the neighborhood\n",
    "train_df['LotFrontage'] = train_df.groupby('Neighborhood')['LotFrontage'].transform(lambda x: x.fillna(x.median()))\n",
    "\n",
    "# For Electrical, we'll replace it with the most common value\n",
    "train_df['Electrical'].fillna(train_df['Electrical'].mode()[0], inplace=True)\n",
    "\n",
    "# Checking if there are any missing values left\n",
    "train_df.isnull().sum().sum()\n"
   ]
  },
  {
   "cell_type": "markdown",
   "id": "2e27b30b",
   "metadata": {},
   "source": [
    "### Remove missing values from test set as well\n",
    "\n",
    "I'll do the same thing."
   ]
  },
  {
   "cell_type": "code",
   "execution_count": null,
   "id": "5233787e",
   "metadata": {},
   "outputs": [],
   "source": [
    "# Calculating the percentage of missing values in each feature\n",
    "missing_values = test_df.isnull().mean() * 100\n",
    "\n",
    "# Displaying features with their corresponding percentage of missing values\n",
    "missing_values[missing_values > 0].sort_values(ascending=False)\n"
   ]
  },
  {
   "cell_type": "code",
   "execution_count": null,
   "id": "ea58e0ad",
   "metadata": {},
   "outputs": [],
   "source": [
    "# Filling missing values for features where NaN means the feature doesn't exist\n",
    "for feature in ['PoolQC', 'MiscFeature', 'Alley', 'Fence', 'FireplaceQu',\n",
    "                'GarageType', 'GarageFinish', 'GarageQual', 'GarageCond',\n",
    "                'BsmtExposure', 'BsmtFinType1', 'BsmtFinType2', 'BsmtCond', 'BsmtQual',\n",
    "                'MasVnrType']:\n",
    "    test_df[feature].fillna('None', inplace=True)\n",
    "\n",
    "# Filling missing values for features where NaN means zero\n",
    "for feature in ['GarageYrBlt', 'GarageArea', 'GarageCars', 'BsmtFinSF1', \n",
    "                'BsmtFinSF2', 'BsmtUnfSF', 'TotalBsmtSF', 'BsmtFullBath', \n",
    "                'BsmtHalfBath', 'MasVnrArea']:\n",
    "    test_df[feature].fillna(0, inplace=True)\n",
    "    \n",
    "# Group by neighborhood and fill in missing LotFrontage value by the median LotFrontage of the neighborhood\n",
    "test_df['LotFrontage'] = test_df.groupby('Neighborhood')['LotFrontage'].transform(lambda x: x.fillna(x.median()))\n",
    "\n",
    "# For Electrical, we'll replace it with the most common value\n",
    "test_df['Electrical'].fillna(test_df['Electrical'].mode()[0], inplace=True)\n",
    "\n",
    "# Checking if there are any missing values left\n",
    "test_df.isnull().sum().sum()\n"
   ]
  },
  {
   "cell_type": "code",
   "execution_count": null,
   "id": "35ade31d",
   "metadata": {},
   "outputs": [],
   "source": [
    "test_df.isnull().sum()"
   ]
  },
  {
   "cell_type": "code",
   "execution_count": null,
   "id": "7118085a",
   "metadata": {},
   "outputs": [],
   "source": [
    "# I'll just fill in with the mode\n",
    "\n",
    "mode_value = test_df['MSZoning'].mode()[0]\n",
    "test_df['MSZoning'].fillna(mode_value, inplace=True)\n",
    "\n",
    "mode_value = test_df['SaleType'].mode()[0]\n",
    "test_df['SaleType'].fillna(mode_value, inplace=True)"
   ]
  },
  {
   "cell_type": "code",
   "execution_count": null,
   "id": "40e892e3",
   "metadata": {},
   "outputs": [],
   "source": [
    "test_df.isnull().sum()"
   ]
  },
  {
   "cell_type": "code",
   "execution_count": null,
   "id": "23e2f038",
   "metadata": {},
   "outputs": [],
   "source": [
    "# next, identify categorical values to encode\n",
    "\n",
    "# Identifying categorical features\n",
    "categorical_features = train_df.select_dtypes(include=['object']).columns\n",
    "\n",
    "# Displaying the categorical features\n",
    "categorical_features\n"
   ]
  },
  {
   "cell_type": "markdown",
   "id": "30b4cd57",
   "metadata": {},
   "source": [
    "Encoding all these features will significantly increase our dataset's dimensionality, and could make our models more complex and harder to interpret.\n",
    "\n",
    "I have a feeling that not all of these features will have a significant impact on the SalePrice. For example, Street (the type of road access to the property) may not be as important as the entire Neighborhood in determining the price of a house.\n",
    "\n",
    "So I consider using a feature selection method to identify the most important features, and then can use only these for one-hot encoding.\n",
    "\n",
    "One common method to do this is to calculate the ANOVA F-value between each categorical variable and the target variable SalePrice which measures the impact of each categorical feature on the variance of SalePrice. Features with a higher F-value have a bigger impact.\n",
    "\n"
   ]
  },
  {
   "cell_type": "code",
   "execution_count": null,
   "id": "2f259f5c",
   "metadata": {},
   "outputs": [],
   "source": [
    "from sklearn.feature_selection import f_classif\n",
    "\n",
    "# Creating an empty dataframe to store the F-values and p-values\n",
    "f_values = pd.DataFrame()\n",
    "\n",
    "# Looping through each categorical feature\n",
    "for feature in categorical_features:\n",
    "    # Using label encoding to convert categories into numbers\n",
    "    train_df[feature] = train_df[feature].astype('category').cat.codes\n",
    "\n",
    "    # Calculating the F-value and p-value\n",
    "    f_val, p_val = f_classif(train_df[[feature]], train_df['SalePrice'])\n",
    "\n",
    "    # Storing the F-value and p-value in the dataframe\n",
    "    f_values.at[feature, 'F-value'] = f_val[0]\n",
    "    f_values.at[feature, 'p-value'] = p_val[0]\n",
    "\n",
    "# Sorting the features by F-value in descending order\n",
    "f_values.sort_values('F-value', ascending=False, inplace=True)\n",
    "\n",
    "# Displaying the F-values and p-values\n",
    "f_values\n"
   ]
  },
  {
   "cell_type": "markdown",
   "id": "3de14559",
   "metadata": {},
   "source": [
    "The F-values give us an idea of how much each feature contributes to the variance in SalePrice. A higher F-value indicates a larger contribution. Features ExterQual, KitchenQual, BsmtQual, Street, GarageFinish, and MSZoning have high F-values, which show that they might be significant predictors for our models.\n",
    "\n",
    "While features like Utilities, Condition1, Functional, and SaleType have very low F-values, which might mean they have less predictive power.\n",
    "\n",
    "I choose to select the top 10 categorical features based on their F-values for one-hot encoding. 10 is just random."
   ]
  },
  {
   "cell_type": "code",
   "execution_count": null,
   "id": "72cad525",
   "metadata": {},
   "outputs": [],
   "source": [
    "# Select the top 10 categorical features\n",
    "selected_features = f_values.index[:10]\n",
    "\n",
    "# One-hot encode the selected features\n",
    "one_hot_df = pd.get_dummies(train_df[selected_features], drop_first=True)\n",
    "\n",
    "# Create a new DataFrame with the one-hot encoded features and target variable\n",
    "encoded_train_df = pd.concat([train_df[['SalePrice']], one_hot_df], axis=1)\n",
    "\n",
    "# Display the first few rows of the new DataFrame\n",
    "encoded_train_df.head()"
   ]
  },
  {
   "cell_type": "markdown",
   "id": "ed8807c8",
   "metadata": {},
   "source": [
    "Feature engineering"
   ]
  },
  {
   "cell_type": "code",
   "execution_count": null,
   "id": "8789e8c8",
   "metadata": {},
   "outputs": [],
   "source": [
    "# Create new features based on EDA and domain knowledge\n",
    "\n",
    "# Total Area\n",
    "area_features = ['GrLivArea', 'TotalBsmtSF', '1stFlrSF', '2ndFlrSF', 'GarageArea', 'WoodDeckSF', 'OpenPorchSF']\n",
    "train_df['TotalArea'] = train_df[area_features].sum(axis=1)\n",
    "test_df['TotalArea'] = test_df[area_features].sum(axis=1)\n",
    "\n",
    "# Age of House at Sale\n",
    "train_df['AgeAtSale'] = train_df['YrSold'] - train_df['YearBuilt']\n",
    "test_df['AgeAtSale'] = test_df['YrSold'] - test_df['YearBuilt']\n",
    "\n",
    "# Total Bathrooms\n",
    "bath_features = ['FullBath', 'HalfBath', 'BsmtFullBath', 'BsmtHalfBath']\n",
    "train_df['TotalBath'] = train_df['FullBath'] + 0.5*train_df['HalfBath'] + train_df['BsmtFullBath'] + 0.5*train_df['BsmtHalfBath']\n",
    "test_df['TotalBath'] = test_df['FullBath'] + 0.5*test_df['HalfBath'] + test_df['BsmtFullBath'] + 0.5*test_df['BsmtHalfBath']\n",
    "\n",
    "# Total Porch Area\n",
    "porch_features = ['OpenPorchSF', 'EnclosedPorch', '3SsnPorch', 'ScreenPorch']\n",
    "train_df['TotalPorchSF'] = train_df[porch_features].sum(axis=1)\n",
    "test_df['TotalPorchSF'] = test_df[porch_features].sum(axis=1)\n",
    "\n",
    "# Presence of Pool\n",
    "train_df['HasPool'] = train_df['PoolArea'].apply(lambda x: 1 if x > 0 else 0)\n",
    "test_df['HasPool'] = test_df['PoolArea'].apply(lambda x: 1 if x > 0 else 0)\n",
    "\n",
    "# Remodeling Indicator\n",
    "train_df['Remodeled'] = (train_df['YearBuilt'] != train_df['YearRemodAdd']).astype(int)\n",
    "test_df['Remodeled'] = (test_df['YearBuilt'] != test_df['YearRemodAdd']).astype(int)\n",
    "\n",
    "# Display the first few rows of the training data\n",
    "train_df.head()\n"
   ]
  }
 ],
 "metadata": {
  "kernelspec": {
   "display_name": "Python 3 (ipykernel)",
   "language": "python",
   "name": "python3"
  },
  "language_info": {
   "codemirror_mode": {
    "name": "ipython",
    "version": 3
   },
   "file_extension": ".py",
   "mimetype": "text/x-python",
   "name": "python",
   "nbconvert_exporter": "python",
   "pygments_lexer": "ipython3",
   "version": "3.11.3"
  }
 },
 "nbformat": 4,
 "nbformat_minor": 5
}
